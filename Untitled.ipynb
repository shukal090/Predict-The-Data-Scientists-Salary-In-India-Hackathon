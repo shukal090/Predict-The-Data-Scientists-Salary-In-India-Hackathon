{
 "cells": [
  {
   "cell_type": "code",
   "execution_count": 1,
   "metadata": {},
   "outputs": [],
   "source": [
    "import pandas as pd\n",
    "import numpy as np\n",
    "import matplotlib.pyplot as plt\n",
    "import seaborn as sns\n",
    "import re\n",
    "import nltk\n",
    "import warnings\n",
    "warnings.filterwarnings('ignore')\n",
    "from scipy.sparse import hstack, csr_matrix"
   ]
  },
  {
   "cell_type": "code",
   "execution_count": 2,
   "metadata": {},
   "outputs": [],
   "source": [
    "train=pd.read_csv('Final_Train_Dataset.csv')\n",
    "test=pd.read_csv('Final_Test_Dataset.csv')"
   ]
  },
  {
   "cell_type": "code",
   "execution_count": 3,
   "metadata": {},
   "outputs": [
    {
     "data": {
      "text/html": [
       "<div>\n",
       "<style scoped>\n",
       "    .dataframe tbody tr th:only-of-type {\n",
       "        vertical-align: middle;\n",
       "    }\n",
       "\n",
       "    .dataframe tbody tr th {\n",
       "        vertical-align: top;\n",
       "    }\n",
       "\n",
       "    .dataframe thead th {\n",
       "        text-align: right;\n",
       "    }\n",
       "</style>\n",
       "<table border=\"1\" class=\"dataframe\">\n",
       "  <thead>\n",
       "    <tr style=\"text-align: right;\">\n",
       "      <th></th>\n",
       "      <th>Unnamed: 0</th>\n",
       "      <th>experience</th>\n",
       "      <th>job_description</th>\n",
       "      <th>job_desig</th>\n",
       "      <th>job_type</th>\n",
       "      <th>key_skills</th>\n",
       "      <th>location</th>\n",
       "      <th>salary</th>\n",
       "      <th>company_name_encoded</th>\n",
       "    </tr>\n",
       "  </thead>\n",
       "  <tbody>\n",
       "    <tr>\n",
       "      <th>0</th>\n",
       "      <td>0</td>\n",
       "      <td>5-7 yrs</td>\n",
       "      <td>Exp: Minimum 5 years;Good understanding of IOC...</td>\n",
       "      <td>Senior Exploit and Vulnerability Researcher</td>\n",
       "      <td>NaN</td>\n",
       "      <td>team skills, communication skills, analytical ...</td>\n",
       "      <td>Delhi NCR(Vikas Puri)</td>\n",
       "      <td>6to10</td>\n",
       "      <td>3687</td>\n",
       "    </tr>\n",
       "    <tr>\n",
       "      <th>1</th>\n",
       "      <td>1</td>\n",
       "      <td>10-17 yrs</td>\n",
       "      <td>He should have handled a team of atleast 5-6 d...</td>\n",
       "      <td>Head SCM</td>\n",
       "      <td>NaN</td>\n",
       "      <td>ppc, logistics, inventory management, supply c...</td>\n",
       "      <td>Sonepat</td>\n",
       "      <td>10to15</td>\n",
       "      <td>458</td>\n",
       "    </tr>\n",
       "    <tr>\n",
       "      <th>2</th>\n",
       "      <td>2</td>\n",
       "      <td>5-9 yrs</td>\n",
       "      <td>Must be an effective communicator (written &amp; s...</td>\n",
       "      <td>Deputy Manager - Talent Management &amp; Leadershi...</td>\n",
       "      <td>Analytics</td>\n",
       "      <td>HR Analytics, Employee Engagement, Training, S...</td>\n",
       "      <td>Delhi NCR</td>\n",
       "      <td>15to25</td>\n",
       "      <td>4195</td>\n",
       "    </tr>\n",
       "    <tr>\n",
       "      <th>3</th>\n",
       "      <td>3</td>\n",
       "      <td>7-10 yrs</td>\n",
       "      <td>7  -  10 years of overall experience in data e...</td>\n",
       "      <td>Associate Manager Data Engineering</td>\n",
       "      <td>Analytics</td>\n",
       "      <td>SQL, Javascript, Automation, Python, Ruby, Ana...</td>\n",
       "      <td>Bengaluru</td>\n",
       "      <td>10to15</td>\n",
       "      <td>313</td>\n",
       "    </tr>\n",
       "    <tr>\n",
       "      <th>4</th>\n",
       "      <td>4</td>\n",
       "      <td>1-3 yrs</td>\n",
       "      <td>Chartered Accountancy degree or MBA in Finance...</td>\n",
       "      <td>TS- GSA- Senior Analyst</td>\n",
       "      <td>NaN</td>\n",
       "      <td>accounting, finance, cash flow, financial plan...</td>\n",
       "      <td>Gurgaon</td>\n",
       "      <td>3to6</td>\n",
       "      <td>1305</td>\n",
       "    </tr>\n",
       "  </tbody>\n",
       "</table>\n",
       "</div>"
      ],
      "text/plain": [
       "   Unnamed: 0 experience                                    job_description  \\\n",
       "0           0    5-7 yrs  Exp: Minimum 5 years;Good understanding of IOC...   \n",
       "1           1  10-17 yrs  He should have handled a team of atleast 5-6 d...   \n",
       "2           2    5-9 yrs  Must be an effective communicator (written & s...   \n",
       "3           3   7-10 yrs  7  -  10 years of overall experience in data e...   \n",
       "4           4    1-3 yrs  Chartered Accountancy degree or MBA in Finance...   \n",
       "\n",
       "                                           job_desig   job_type  \\\n",
       "0        Senior Exploit and Vulnerability Researcher        NaN   \n",
       "1                                           Head SCM        NaN   \n",
       "2  Deputy Manager - Talent Management & Leadershi...  Analytics   \n",
       "3                 Associate Manager Data Engineering  Analytics   \n",
       "4                            TS- GSA- Senior Analyst        NaN   \n",
       "\n",
       "                                          key_skills               location  \\\n",
       "0  team skills, communication skills, analytical ...  Delhi NCR(Vikas Puri)   \n",
       "1  ppc, logistics, inventory management, supply c...                Sonepat   \n",
       "2  HR Analytics, Employee Engagement, Training, S...              Delhi NCR   \n",
       "3  SQL, Javascript, Automation, Python, Ruby, Ana...              Bengaluru   \n",
       "4  accounting, finance, cash flow, financial plan...                Gurgaon   \n",
       "\n",
       "   salary  company_name_encoded  \n",
       "0   6to10                  3687  \n",
       "1  10to15                   458  \n",
       "2  15to25                  4195  \n",
       "3  10to15                   313  \n",
       "4    3to6                  1305  "
      ]
     },
     "execution_count": 3,
     "metadata": {},
     "output_type": "execute_result"
    }
   ],
   "source": [
    "train.head()"
   ]
  },
  {
   "cell_type": "code",
   "execution_count": 4,
   "metadata": {},
   "outputs": [
    {
     "data": {
      "text/html": [
       "<div>\n",
       "<style scoped>\n",
       "    .dataframe tbody tr th:only-of-type {\n",
       "        vertical-align: middle;\n",
       "    }\n",
       "\n",
       "    .dataframe tbody tr th {\n",
       "        vertical-align: top;\n",
       "    }\n",
       "\n",
       "    .dataframe thead th {\n",
       "        text-align: right;\n",
       "    }\n",
       "</style>\n",
       "<table border=\"1\" class=\"dataframe\">\n",
       "  <thead>\n",
       "    <tr style=\"text-align: right;\">\n",
       "      <th></th>\n",
       "      <th>experience</th>\n",
       "      <th>job_description</th>\n",
       "      <th>job_desig</th>\n",
       "      <th>job_type</th>\n",
       "      <th>key_skills</th>\n",
       "      <th>location</th>\n",
       "      <th>company_name_encoded</th>\n",
       "    </tr>\n",
       "  </thead>\n",
       "  <tbody>\n",
       "    <tr>\n",
       "      <th>0</th>\n",
       "      <td>7-12 yrs</td>\n",
       "      <td>Professional experience in Java/J2EE based ser...</td>\n",
       "      <td>IT Technology Senior Consultant/java/ J2ee/ Se...</td>\n",
       "      <td>NaN</td>\n",
       "      <td>Java, J2Ee, Tomcat, JBoss, Weblogic, Oracle, E...</td>\n",
       "      <td>Bengaluru</td>\n",
       "      <td>2066</td>\n",
       "    </tr>\n",
       "    <tr>\n",
       "      <th>1</th>\n",
       "      <td>0-5 yrs</td>\n",
       "      <td>We are looking for 20+ Fresher/Experienced Can...</td>\n",
       "      <td>Medical Billing Process | International KPO | ...</td>\n",
       "      <td>NaN</td>\n",
       "      <td>Medical Billing, Insurance Processing</td>\n",
       "      <td>Ahmedabad(Sola)</td>\n",
       "      <td>2629</td>\n",
       "    </tr>\n",
       "    <tr>\n",
       "      <th>2</th>\n",
       "      <td>3-6 yrs</td>\n",
       "      <td>Should understand overall integration framewor...</td>\n",
       "      <td>Oracle Sales Cloud Functional Consultant</td>\n",
       "      <td>NaN</td>\n",
       "      <td>Oracle Sales, Functional Consultancy, Troubles...</td>\n",
       "      <td>Bengaluru</td>\n",
       "      <td>2448</td>\n",
       "    </tr>\n",
       "    <tr>\n",
       "      <th>3</th>\n",
       "      <td>0-3 yrs</td>\n",
       "      <td>NaN</td>\n",
       "      <td>Looking For Freshers WHO WANT To Work WITH US</td>\n",
       "      <td>NaN</td>\n",
       "      <td>offline, online, internet, part time, home bas...</td>\n",
       "      <td>Delhi NCR, Chennai, Hyderabad, Gurgaon, Luckno...</td>\n",
       "      <td>2711</td>\n",
       "    </tr>\n",
       "    <tr>\n",
       "      <th>4</th>\n",
       "      <td>0-5 yrs</td>\n",
       "      <td>NaN</td>\n",
       "      <td>Process Associate / Sr Process Associate / Tec...</td>\n",
       "      <td>NaN</td>\n",
       "      <td>voice support, analytical skills, Process asso...</td>\n",
       "      <td>Hyderabad</td>\n",
       "      <td>40</td>\n",
       "    </tr>\n",
       "  </tbody>\n",
       "</table>\n",
       "</div>"
      ],
      "text/plain": [
       "  experience                                    job_description  \\\n",
       "0   7-12 yrs  Professional experience in Java/J2EE based ser...   \n",
       "1    0-5 yrs  We are looking for 20+ Fresher/Experienced Can...   \n",
       "2    3-6 yrs  Should understand overall integration framewor...   \n",
       "3    0-3 yrs                                                NaN   \n",
       "4    0-5 yrs                                                NaN   \n",
       "\n",
       "                                           job_desig job_type  \\\n",
       "0  IT Technology Senior Consultant/java/ J2ee/ Se...      NaN   \n",
       "1  Medical Billing Process | International KPO | ...      NaN   \n",
       "2           Oracle Sales Cloud Functional Consultant      NaN   \n",
       "3      Looking For Freshers WHO WANT To Work WITH US      NaN   \n",
       "4  Process Associate / Sr Process Associate / Tec...      NaN   \n",
       "\n",
       "                                          key_skills  \\\n",
       "0  Java, J2Ee, Tomcat, JBoss, Weblogic, Oracle, E...   \n",
       "1              Medical Billing, Insurance Processing   \n",
       "2  Oracle Sales, Functional Consultancy, Troubles...   \n",
       "3  offline, online, internet, part time, home bas...   \n",
       "4  voice support, analytical skills, Process asso...   \n",
       "\n",
       "                                            location  company_name_encoded  \n",
       "0                                          Bengaluru                  2066  \n",
       "1                                    Ahmedabad(Sola)                  2629  \n",
       "2                                          Bengaluru                  2448  \n",
       "3  Delhi NCR, Chennai, Hyderabad, Gurgaon, Luckno...                  2711  \n",
       "4                                          Hyderabad                    40  "
      ]
     },
     "execution_count": 4,
     "metadata": {},
     "output_type": "execute_result"
    }
   ],
   "source": [
    "test.head()"
   ]
  },
  {
   "cell_type": "code",
   "execution_count": 5,
   "metadata": {},
   "outputs": [
    {
     "name": "stdout",
     "output_type": "stream",
     "text": [
      "<class 'pandas.core.frame.DataFrame'>\n",
      "RangeIndex: 19802 entries, 0 to 19801\n",
      "Data columns (total 9 columns):\n",
      "Unnamed: 0              19802 non-null int64\n",
      "experience              19802 non-null object\n",
      "job_description         15384 non-null object\n",
      "job_desig               19802 non-null object\n",
      "job_type                4797 non-null object\n",
      "key_skills              19801 non-null object\n",
      "location                19802 non-null object\n",
      "salary                  19802 non-null object\n",
      "company_name_encoded    19802 non-null int64\n",
      "dtypes: int64(2), object(7)\n",
      "memory usage: 1.4+ MB\n"
     ]
    }
   ],
   "source": [
    "train.info()"
   ]
  },
  {
   "cell_type": "code",
   "execution_count": 6,
   "metadata": {},
   "outputs": [],
   "source": [
    "train=train.dropna(subset=['key_skills'])"
   ]
  },
  {
   "cell_type": "code",
   "execution_count": 7,
   "metadata": {},
   "outputs": [],
   "source": [
    "df_train=train[['job_description','job_desig','experience','job_type','key_skills','location','salary']]\n"
   ]
  },
  {
   "cell_type": "code",
   "execution_count": 8,
   "metadata": {},
   "outputs": [],
   "source": [
    "df_test=test[['job_description','job_desig','experience','job_type','key_skills','location']]"
   ]
  },
  {
   "cell_type": "code",
   "execution_count": 9,
   "metadata": {},
   "outputs": [],
   "source": [
    "def clean_skills(skl):\n",
    "    skills=str(skl).lower()\n",
    "    skills=re.sub(r'\\...','',skills)\n",
    "    skills=re.sub(r',','',skills)\n",
    "    skills=re.sub(r's+','',skills)\n",
    "    return skills\n",
    "df_train['cleaned_skills']=df_train['key_skills'].apply(clean_skills)\n",
    "df_test['cleaned_skills']=df_test['key_skills'].apply(clean_skills)"
   ]
  },
  {
   "cell_type": "code",
   "execution_count": 10,
   "metadata": {},
   "outputs": [],
   "source": [
    "def clean_job_desig(desig):\n",
    "    job_desig=str(desig).lower()\n",
    "    job_desig=re.sub(r'[^a-z]','',job_desig)\n",
    "    job_desig=re.sub(r's+','',job_desig)\n",
    "    return job_desig\n",
    "df_train['Cleaned_job_desig']=df_train['job_desig'].apply(clean_job_desig)\n",
    "df_test['Cleaned_job_desig']=df_test['job_desig'].apply(clean_job_desig)"
   ]
  },
  {
   "cell_type": "code",
   "execution_count": 11,
   "metadata": {},
   "outputs": [],
   "source": [
    "df_train['job_description'].fillna('missing',inplace=True)\n",
    "df_test['job_description'].fillna('missing',inplace=True)\n",
    "\n",
    "def clean_job_desc(job):\n",
    "    job_desc=str(job).lower()\n",
    "    job_desc=re.sub(r'[^a-z]','',job_desc)\n",
    "    job_desc=re.sub(r'\\s+','',job_desc)\n",
    "    return job_desc\n",
    "df_train['Cleaned_job_desc']=df_train['job_description'].apply(clean_job_desc)\n",
    "df_test['Cleaned_job_desc']=df_test['job_description'].apply(clean_job_desc)\n"
   ]
  },
  {
   "cell_type": "code",
   "execution_count": 12,
   "metadata": {},
   "outputs": [],
   "source": [
    "def clean_location(loc):\n",
    "    location=str(loc).lower()\n",
    "    location=re.sub(r'[^a-z]','',location)\n",
    "    location=re.sub(r'\\s+','',location)\n",
    "    return location\n",
    "df_train['cleaned_location']=df_train['location'].apply(clean_location)\n",
    "df_test['cleaned_location']=df_test['location'].apply(clean_location)"
   ]
  },
  {
   "cell_type": "code",
   "execution_count": 13,
   "metadata": {},
   "outputs": [],
   "source": [
    "train['job_type'].fillna('missingjobtype', inplace=True)\n",
    "train['job_type'].replace('Analytics', 'analytics', inplace=True)\n",
    "train['job_type'].replace('Analytic', 'analytics', inplace=True)\n",
    "train['job_type'].replace('ANALYTICS', 'analytics', inplace=True)\n",
    "train['job_type'].replace('analytic', 'analytics', inplace=True)\n",
    "\n",
    "test['job_type'].fillna('missingjobtype', inplace=True)\n",
    "test['job_type'].replace('Analytics', 'analytics', inplace=True)\n",
    "test['job_type'].replace('Analytic', 'analytics', inplace=True)\n",
    "test['job_type'].replace('ANALYTICS', 'analytics', inplace=True)\n",
    "test['job_type'].replace('analytic', 'analytics', inplace=True)\n",
    "\n",
    "df_train['job_type_cleaned'] = train['job_type'] \n",
    "df_test['job_type_cleaned'] = test['job_type']"
   ]
  },
  {
   "cell_type": "code",
   "execution_count": 14,
   "metadata": {},
   "outputs": [],
   "source": [
    "def min_exp(exp):\n",
    "    val = re.sub(r'\\-',' ', exp)\n",
    "    val = val.split(' ')\n",
    "    val = int(val[0])\n",
    "    return val\n",
    "def max_exp(exp):\n",
    "    val = re.sub(r'\\-',' ', exp)\n",
    "    val = val.split(' ')\n",
    "    val = int(val[1])\n",
    "    return val\n",
    "\n",
    "df_train['max_exp']=df_train['experience'].apply(max_exp)\n",
    "df_test['max_exp']=df_test['experience'].apply(max_exp)\n",
    "\n",
    "df_train['min_exp']=df_train['experience'].apply(min_exp)\n",
    "df_test['min_exp']=df_test['experience'].apply(min_exp)"
   ]
  },
  {
   "cell_type": "code",
   "execution_count": 15,
   "metadata": {},
   "outputs": [
    {
     "data": {
      "text/html": [
       "<div>\n",
       "<style scoped>\n",
       "    .dataframe tbody tr th:only-of-type {\n",
       "        vertical-align: middle;\n",
       "    }\n",
       "\n",
       "    .dataframe tbody tr th {\n",
       "        vertical-align: top;\n",
       "    }\n",
       "\n",
       "    .dataframe thead th {\n",
       "        text-align: right;\n",
       "    }\n",
       "</style>\n",
       "<table border=\"1\" class=\"dataframe\">\n",
       "  <thead>\n",
       "    <tr style=\"text-align: right;\">\n",
       "      <th></th>\n",
       "      <th>job_description</th>\n",
       "      <th>job_desig</th>\n",
       "      <th>experience</th>\n",
       "      <th>job_type</th>\n",
       "      <th>key_skills</th>\n",
       "      <th>location</th>\n",
       "      <th>salary</th>\n",
       "      <th>cleaned_skills</th>\n",
       "      <th>Cleaned_job_desig</th>\n",
       "      <th>Cleaned_job_desc</th>\n",
       "      <th>cleaned_location</th>\n",
       "      <th>job_type_cleaned</th>\n",
       "      <th>max_exp</th>\n",
       "      <th>min_exp</th>\n",
       "    </tr>\n",
       "  </thead>\n",
       "  <tbody>\n",
       "    <tr>\n",
       "      <th>0</th>\n",
       "      <td>Exp: Minimum 5 years;Good understanding of IOC...</td>\n",
       "      <td>Senior Exploit and Vulnerability Researcher</td>\n",
       "      <td>5-7 yrs</td>\n",
       "      <td>NaN</td>\n",
       "      <td>team skills, communication skills, analytical ...</td>\n",
       "      <td>Delhi NCR(Vikas Puri)</td>\n",
       "      <td>6to10</td>\n",
       "      <td>team kill communication kill analytical kill p...</td>\n",
       "      <td>eniorexploitandvulnerabilityreearcher</td>\n",
       "      <td>expminimumyearsgoodunderstandingofiocrulesmust...</td>\n",
       "      <td>delhincrvikaspuri</td>\n",
       "      <td>missingjobtype</td>\n",
       "      <td>7</td>\n",
       "      <td>5</td>\n",
       "    </tr>\n",
       "    <tr>\n",
       "      <th>1</th>\n",
       "      <td>He should have handled a team of atleast 5-6 d...</td>\n",
       "      <td>Head SCM</td>\n",
       "      <td>10-17 yrs</td>\n",
       "      <td>NaN</td>\n",
       "      <td>ppc, logistics, inventory management, supply c...</td>\n",
       "      <td>Sonepat</td>\n",
       "      <td>10to15</td>\n",
       "      <td>ppc logitic inventory management upply chain m...</td>\n",
       "      <td>headcm</td>\n",
       "      <td>heshouldhavehandledateamofatleastdirectreporte...</td>\n",
       "      <td>sonepat</td>\n",
       "      <td>missingjobtype</td>\n",
       "      <td>17</td>\n",
       "      <td>10</td>\n",
       "    </tr>\n",
       "    <tr>\n",
       "      <th>2</th>\n",
       "      <td>Must be an effective communicator (written &amp; s...</td>\n",
       "      <td>Deputy Manager - Talent Management &amp; Leadershi...</td>\n",
       "      <td>5-9 yrs</td>\n",
       "      <td>Analytics</td>\n",
       "      <td>HR Analytics, Employee Engagement, Training, S...</td>\n",
       "      <td>Delhi NCR</td>\n",
       "      <td>15to25</td>\n",
       "      <td>hr analytic employee engagement training uccei...</td>\n",
       "      <td>deputymanagertalentmanagementleaderhipdevelopm...</td>\n",
       "      <td>mustbeaneffectivecommunicatorwrittenspokenands...</td>\n",
       "      <td>delhincr</td>\n",
       "      <td>analytics</td>\n",
       "      <td>9</td>\n",
       "      <td>5</td>\n",
       "    </tr>\n",
       "    <tr>\n",
       "      <th>3</th>\n",
       "      <td>7  -  10 years of overall experience in data e...</td>\n",
       "      <td>Associate Manager Data Engineering</td>\n",
       "      <td>7-10 yrs</td>\n",
       "      <td>Analytics</td>\n",
       "      <td>SQL, Javascript, Automation, Python, Ruby, Ana...</td>\n",
       "      <td>Bengaluru</td>\n",
       "      <td>10to15</td>\n",
       "      <td>ql javacript automation python ruby analytic m...</td>\n",
       "      <td>aociatemanagerdataengineering</td>\n",
       "      <td>yearsofoverallexperienceindataengineeringandbi...</td>\n",
       "      <td>bengaluru</td>\n",
       "      <td>analytics</td>\n",
       "      <td>10</td>\n",
       "      <td>7</td>\n",
       "    </tr>\n",
       "    <tr>\n",
       "      <th>4</th>\n",
       "      <td>Chartered Accountancy degree or MBA in Finance...</td>\n",
       "      <td>TS- GSA- Senior Analyst</td>\n",
       "      <td>1-3 yrs</td>\n",
       "      <td>NaN</td>\n",
       "      <td>accounting, finance, cash flow, financial plan...</td>\n",
       "      <td>Gurgaon</td>\n",
       "      <td>3to6</td>\n",
       "      <td>accounting finance cah flow financial planning...</td>\n",
       "      <td>tgaenioranalyt</td>\n",
       "      <td>charteredaccountancydegreeormbainfinancefromap...</td>\n",
       "      <td>gurgaon</td>\n",
       "      <td>missingjobtype</td>\n",
       "      <td>3</td>\n",
       "      <td>1</td>\n",
       "    </tr>\n",
       "  </tbody>\n",
       "</table>\n",
       "</div>"
      ],
      "text/plain": [
       "                                     job_description  \\\n",
       "0  Exp: Minimum 5 years;Good understanding of IOC...   \n",
       "1  He should have handled a team of atleast 5-6 d...   \n",
       "2  Must be an effective communicator (written & s...   \n",
       "3  7  -  10 years of overall experience in data e...   \n",
       "4  Chartered Accountancy degree or MBA in Finance...   \n",
       "\n",
       "                                           job_desig experience   job_type  \\\n",
       "0        Senior Exploit and Vulnerability Researcher    5-7 yrs        NaN   \n",
       "1                                           Head SCM  10-17 yrs        NaN   \n",
       "2  Deputy Manager - Talent Management & Leadershi...    5-9 yrs  Analytics   \n",
       "3                 Associate Manager Data Engineering   7-10 yrs  Analytics   \n",
       "4                            TS- GSA- Senior Analyst    1-3 yrs        NaN   \n",
       "\n",
       "                                          key_skills               location  \\\n",
       "0  team skills, communication skills, analytical ...  Delhi NCR(Vikas Puri)   \n",
       "1  ppc, logistics, inventory management, supply c...                Sonepat   \n",
       "2  HR Analytics, Employee Engagement, Training, S...              Delhi NCR   \n",
       "3  SQL, Javascript, Automation, Python, Ruby, Ana...              Bengaluru   \n",
       "4  accounting, finance, cash flow, financial plan...                Gurgaon   \n",
       "\n",
       "   salary                                     cleaned_skills  \\\n",
       "0   6to10  team kill communication kill analytical kill p...   \n",
       "1  10to15  ppc logitic inventory management upply chain m...   \n",
       "2  15to25  hr analytic employee engagement training uccei...   \n",
       "3  10to15  ql javacript automation python ruby analytic m...   \n",
       "4    3to6  accounting finance cah flow financial planning...   \n",
       "\n",
       "                                   Cleaned_job_desig  \\\n",
       "0              eniorexploitandvulnerabilityreearcher   \n",
       "1                                             headcm   \n",
       "2  deputymanagertalentmanagementleaderhipdevelopm...   \n",
       "3                      aociatemanagerdataengineering   \n",
       "4                                     tgaenioranalyt   \n",
       "\n",
       "                                    Cleaned_job_desc   cleaned_location  \\\n",
       "0  expminimumyearsgoodunderstandingofiocrulesmust...  delhincrvikaspuri   \n",
       "1  heshouldhavehandledateamofatleastdirectreporte...            sonepat   \n",
       "2  mustbeaneffectivecommunicatorwrittenspokenands...           delhincr   \n",
       "3  yearsofoverallexperienceindataengineeringandbi...          bengaluru   \n",
       "4  charteredaccountancydegreeormbainfinancefromap...            gurgaon   \n",
       "\n",
       "  job_type_cleaned  max_exp  min_exp  \n",
       "0   missingjobtype        7        5  \n",
       "1   missingjobtype       17       10  \n",
       "2        analytics        9        5  \n",
       "3        analytics       10        7  \n",
       "4   missingjobtype        3        1  "
      ]
     },
     "execution_count": 15,
     "metadata": {},
     "output_type": "execute_result"
    }
   ],
   "source": [
    "df_train.head()"
   ]
  },
  {
   "cell_type": "code",
   "execution_count": 16,
   "metadata": {},
   "outputs": [],
   "source": [
    "df_train['merged']=(df_train['Cleaned_job_desig']+''+df_train['Cleaned_job_desc']+''+df_train['job_type_cleaned']+''+df_train['cleaned_skills'])"
   ]
  },
  {
   "cell_type": "code",
   "execution_count": 17,
   "metadata": {},
   "outputs": [],
   "source": [
    "df_test['merged']=(df_test['Cleaned_job_desig']+''+df_test['Cleaned_job_desc']+''+df_test['job_type_cleaned']+''+df_test['cleaned_skills'])"
   ]
  },
  {
   "cell_type": "code",
   "execution_count": 18,
   "metadata": {},
   "outputs": [],
   "source": [
    "from sklearn.preprocessing import LabelEncoder\n",
    "le=LabelEncoder()\n",
    "df_train['salary']=le.fit_transform(df_train['salary'])"
   ]
  },
  {
   "cell_type": "code",
   "execution_count": 19,
   "metadata": {},
   "outputs": [],
   "source": [
    "from sklearn.model_selection import train_test_split\n",
    "X_train, X_cv, y_train, y_cv = train_test_split(\n",
    "    df_train[['merged', 'cleaned_location', 'min_exp', 'max_exp']], \n",
    "    df_train['salary'], test_size=0.20, \n",
    "    stratify=df_train['salary'], random_state=75)"
   ]
  },
  {
   "cell_type": "code",
   "execution_count": 20,
   "metadata": {},
   "outputs": [
    {
     "name": "stdout",
     "output_type": "stream",
     "text": [
      "No. of sample texts X_train:  15840\n",
      "No. of sample texts X_cv   :  3961\n"
     ]
    }
   ],
   "source": [
    "print('No. of sample texts X_train: ', len(X_train))\n",
    "print('No. of sample texts X_cv   : ', len(X_cv))"
   ]
  },
  {
   "cell_type": "code",
   "execution_count": 21,
   "metadata": {},
   "outputs": [],
   "source": [
    "X_train_merged = X_train['merged']\n",
    "X_train_loc = X_train['cleaned_location']\n",
    "\n",
    "X_cv_merged = X_cv['merged']\n",
    "X_cv_loc = X_cv['cleaned_location']"
   ]
  },
  {
   "cell_type": "code",
   "execution_count": 22,
   "metadata": {},
   "outputs": [],
   "source": [
    "from sklearn.feature_extraction.text import TfidfVectorizer, CountVectorizer"
   ]
  },
  {
   "cell_type": "code",
   "execution_count": 23,
   "metadata": {},
   "outputs": [],
   "source": [
    "tf1 = TfidfVectorizer(min_df=3, token_pattern=r'\\w{3,}', ngram_range=(1,3), max_df=0.9)\n",
    "tf2 = TfidfVectorizer(min_df=2, token_pattern=r'\\w{3,}')\n",
    "\n",
    "X_train_merged = tf1.fit_transform(X_train_merged)\n",
    "X_train_loc = tf2.fit_transform(X_train_loc)\n",
    "\n",
    "X_cv_merged = tf1.transform(X_cv_merged)\n",
    "X_cv_loc = tf2.transform(X_cv_loc)"
   ]
  },
  {
   "cell_type": "code",
   "execution_count": 24,
   "metadata": {},
   "outputs": [],
   "source": [
    "from scipy import sparse\n",
    "from sklearn.preprocessing import StandardScaler\n",
    "\n",
    "sc1 = StandardScaler()\n",
    "X_train_MinExp = sc1.fit_transform(np.array(X_train['min_exp']).reshape(-1,1))\n",
    "X_cv_MinExp = sc1.transform(np.array(X_cv['min_exp']).reshape(-1,1))\n",
    "X_train_MinExp = sparse.csr_matrix(X_train_MinExp)\n",
    "X_cv_MinExp = sparse.csr_matrix(X_cv_MinExp)\n",
    "\n",
    "sc2 = StandardScaler()\n",
    "X_train_MaxExp = sc2.fit_transform(np.array(X_train['max_exp']).reshape(-1,1))\n",
    "X_cv_MaxExp = sc2.transform(np.array(X_cv['max_exp']).reshape(-1,1))\n",
    "X_train_MaxExp = sparse.csr_matrix(X_train_MaxExp)\n",
    "X_cv_MaxExp = sparse.csr_matrix(X_cv_MaxExp)"
   ]
  },
  {
   "cell_type": "code",
   "execution_count": 25,
   "metadata": {},
   "outputs": [],
   "source": [
    "merged_train = hstack((X_train_merged, X_train_loc, X_train_MinExp, X_train_MaxExp))\n",
    "merged_cv  = hstack((X_cv_merged, X_cv_loc, X_cv_MinExp, X_cv_MaxExp))"
   ]
  },
  {
   "cell_type": "code",
   "execution_count": 26,
   "metadata": {},
   "outputs": [
    {
     "data": {
      "text/plain": [
       "((15840, 15217), (3961, 15217))"
      ]
     },
     "execution_count": 26,
     "metadata": {},
     "output_type": "execute_result"
    }
   ],
   "source": [
    "merged_train.shape, merged_cv.shape"
   ]
  },
  {
   "cell_type": "code",
   "execution_count": 27,
   "metadata": {},
   "outputs": [],
   "source": [
    "from sklearn.metrics import accuracy_score, classification_report, confusion_matrix"
   ]
  },
  {
   "cell_type": "code",
   "execution_count": 28,
   "metadata": {},
   "outputs": [],
   "source": [
    "import lightgbm as lgb\n",
    "train_data = lgb.Dataset(merged_train, label=y_train)\n",
    "test_data = lgb.Dataset(merged_cv, label=y_cv)"
   ]
  },
  {
   "cell_type": "code",
   "execution_count": 29,
   "metadata": {},
   "outputs": [],
   "source": [
    "param = {'objective': 'multiclass',\n",
    "         'num_iterations': 80,\n",
    "         'learning_rate': 0.04,  \n",
    "         'num_leaves': 23,\n",
    "         'max_depth': 7, \n",
    "         'min_data_in_leaf': 28, \n",
    "         'max_bin': 10, \n",
    "         'min_data_in_bin': 3,   \n",
    "         'num_class': 6,\n",
    "         'metric': 'multi_logloss'\n",
    "         }"
   ]
  },
  {
   "cell_type": "code",
   "execution_count": 30,
   "metadata": {
    "scrolled": true
   },
   "outputs": [
    {
     "name": "stdout",
     "output_type": "stream",
     "text": [
      "[1]\tvalid_0's multi_logloss: 1.72447\n",
      "[2]\tvalid_0's multi_logloss: 1.70398\n",
      "[3]\tvalid_0's multi_logloss: 1.68492\n",
      "[4]\tvalid_0's multi_logloss: 1.66724\n",
      "[5]\tvalid_0's multi_logloss: 1.65069\n",
      "[6]\tvalid_0's multi_logloss: 1.6352\n",
      "[7]\tvalid_0's multi_logloss: 1.62076\n",
      "[8]\tvalid_0's multi_logloss: 1.60712\n",
      "[9]\tvalid_0's multi_logloss: 1.59407\n",
      "[10]\tvalid_0's multi_logloss: 1.58213\n",
      "[11]\tvalid_0's multi_logloss: 1.57047\n",
      "[12]\tvalid_0's multi_logloss: 1.55959\n",
      "[13]\tvalid_0's multi_logloss: 1.54926\n",
      "[14]\tvalid_0's multi_logloss: 1.5394\n",
      "[15]\tvalid_0's multi_logloss: 1.52978\n",
      "[16]\tvalid_0's multi_logloss: 1.52094\n",
      "[17]\tvalid_0's multi_logloss: 1.51228\n",
      "[18]\tvalid_0's multi_logloss: 1.50403\n",
      "[19]\tvalid_0's multi_logloss: 1.49624\n",
      "[20]\tvalid_0's multi_logloss: 1.48879\n",
      "[21]\tvalid_0's multi_logloss: 1.48171\n",
      "[22]\tvalid_0's multi_logloss: 1.4749\n",
      "[23]\tvalid_0's multi_logloss: 1.46842\n",
      "[24]\tvalid_0's multi_logloss: 1.46207\n",
      "[25]\tvalid_0's multi_logloss: 1.45594\n",
      "[26]\tvalid_0's multi_logloss: 1.45003\n",
      "[27]\tvalid_0's multi_logloss: 1.44439\n",
      "[28]\tvalid_0's multi_logloss: 1.43901\n",
      "[29]\tvalid_0's multi_logloss: 1.43382\n",
      "[30]\tvalid_0's multi_logloss: 1.42893\n",
      "[31]\tvalid_0's multi_logloss: 1.42409\n",
      "[32]\tvalid_0's multi_logloss: 1.41959\n",
      "[33]\tvalid_0's multi_logloss: 1.4151\n",
      "[34]\tvalid_0's multi_logloss: 1.41086\n",
      "[35]\tvalid_0's multi_logloss: 1.40677\n",
      "[36]\tvalid_0's multi_logloss: 1.40278\n",
      "[37]\tvalid_0's multi_logloss: 1.39906\n",
      "[38]\tvalid_0's multi_logloss: 1.39524\n",
      "[39]\tvalid_0's multi_logloss: 1.39168\n",
      "[40]\tvalid_0's multi_logloss: 1.38822\n",
      "[41]\tvalid_0's multi_logloss: 1.38484\n",
      "[42]\tvalid_0's multi_logloss: 1.38157\n",
      "[43]\tvalid_0's multi_logloss: 1.3784\n",
      "[44]\tvalid_0's multi_logloss: 1.37541\n",
      "[45]\tvalid_0's multi_logloss: 1.37253\n",
      "[46]\tvalid_0's multi_logloss: 1.36963\n",
      "[47]\tvalid_0's multi_logloss: 1.36691\n",
      "[48]\tvalid_0's multi_logloss: 1.36432\n",
      "[49]\tvalid_0's multi_logloss: 1.3618\n",
      "[50]\tvalid_0's multi_logloss: 1.35941\n",
      "[51]\tvalid_0's multi_logloss: 1.35706\n",
      "[52]\tvalid_0's multi_logloss: 1.35478\n",
      "[53]\tvalid_0's multi_logloss: 1.35245\n",
      "[54]\tvalid_0's multi_logloss: 1.35038\n",
      "[55]\tvalid_0's multi_logloss: 1.34829\n",
      "[56]\tvalid_0's multi_logloss: 1.34633\n",
      "[57]\tvalid_0's multi_logloss: 1.34447\n",
      "[58]\tvalid_0's multi_logloss: 1.34258\n",
      "[59]\tvalid_0's multi_logloss: 1.34063\n",
      "[60]\tvalid_0's multi_logloss: 1.33886\n",
      "[61]\tvalid_0's multi_logloss: 1.33715\n",
      "[62]\tvalid_0's multi_logloss: 1.3355\n",
      "[63]\tvalid_0's multi_logloss: 1.33389\n",
      "[64]\tvalid_0's multi_logloss: 1.33225\n",
      "[65]\tvalid_0's multi_logloss: 1.33083\n",
      "[66]\tvalid_0's multi_logloss: 1.32922\n",
      "[67]\tvalid_0's multi_logloss: 1.32772\n",
      "[68]\tvalid_0's multi_logloss: 1.32631\n",
      "[69]\tvalid_0's multi_logloss: 1.325\n",
      "[70]\tvalid_0's multi_logloss: 1.32369\n",
      "[71]\tvalid_0's multi_logloss: 1.32232\n",
      "[72]\tvalid_0's multi_logloss: 1.32108\n",
      "[73]\tvalid_0's multi_logloss: 1.31985\n",
      "[74]\tvalid_0's multi_logloss: 1.31863\n",
      "[75]\tvalid_0's multi_logloss: 1.31743\n",
      "[76]\tvalid_0's multi_logloss: 1.31626\n",
      "[77]\tvalid_0's multi_logloss: 1.31515\n",
      "[78]\tvalid_0's multi_logloss: 1.31423\n",
      "[79]\tvalid_0's multi_logloss: 1.3133\n",
      "[80]\tvalid_0's multi_logloss: 1.31216\n"
     ]
    }
   ],
   "source": [
    "lgbm = lgb.train(params=param,\n",
    "                 train_set=train_data,\n",
    "                 num_boost_round=100,\n",
    "                 valid_sets=[test_data])\n",
    "\n",
    "y_pred_class = lgbm.predict(merged_cv)"
   ]
  },
  {
   "cell_type": "code",
   "execution_count": 31,
   "metadata": {},
   "outputs": [
    {
     "name": "stdout",
     "output_type": "stream",
     "text": [
      "accuracy: 0.44761423882857865\n"
     ]
    }
   ],
   "source": [
    "predictions = []\n",
    "for x in y_pred_class:\n",
    "    predictions.append(np.argmax(x))\n",
    "\n",
    "print('accuracy:', accuracy_score(y_cv, predictions))"
   ]
  },
  {
   "cell_type": "code",
   "execution_count": 32,
   "metadata": {},
   "outputs": [],
   "source": [
    "# For test data\n",
    "X_train_merged = df_train['merged']\n",
    "X_train_loc = df_train['cleaned_location']\n",
    "\n",
    "X_test_merged = df_test['merged']\n",
    "X_test_loc = df_test['cleaned_location']\n",
    "\n",
    "y_train = df_train['salary']\n",
    "\n"
   ]
  },
  {
   "cell_type": "code",
   "execution_count": 33,
   "metadata": {},
   "outputs": [],
   "source": [
    "tf1 = TfidfVectorizer(min_df=3, token_pattern=r'\\w{3,}', ngram_range=(1,3))\n",
    "tf2 = TfidfVectorizer(min_df=2, token_pattern=r'\\w{3,}')\n",
    "\n",
    "X_train_merged = tf1.fit_transform(X_train_merged)\n",
    "X_train_loc = tf2.fit_transform(X_train_loc)\n",
    "\n",
    "X_test_merged = tf1.transform(X_test_merged)\n",
    "X_test_loc = tf2.transform(X_test_loc)"
   ]
  },
  {
   "cell_type": "code",
   "execution_count": 34,
   "metadata": {},
   "outputs": [],
   "source": [
    "from scipy import sparse\n",
    "from sklearn.preprocessing import StandardScaler\n",
    "\n",
    "sc1 = StandardScaler()\n",
    "X_train_MinExp = sc1.fit_transform(np.array(df_train['min_exp']).reshape(-1,1))\n",
    "X_test_MinExp = sc1.transform(np.array(df_test['min_exp']).reshape(-1,1))\n",
    "X_train_MinExp = sparse.csr_matrix(X_train_MinExp)\n",
    "X_test_MinExp = sparse.csr_matrix(X_test_MinExp)\n",
    "\n",
    "sc2 = StandardScaler()\n",
    "X_train_MaxExp = sc2.fit_transform(np.array(df_train['max_exp']).reshape(-1,1))\n",
    "X_test_MaxExp = sc2.transform(np.array(df_test['max_exp']).reshape(-1,1))\n",
    "X_train_MaxExp = sparse.csr_matrix(X_train_MaxExp)"
   ]
  },
  {
   "cell_type": "code",
   "execution_count": 35,
   "metadata": {},
   "outputs": [],
   "source": [
    "merged_train = hstack((X_train_merged, X_train_loc, X_train_MinExp, X_train_MaxExp))\n",
    "merged_test  = hstack((X_test_merged, X_test_loc, X_test_MinExp, X_test_MaxExp))"
   ]
  },
  {
   "cell_type": "code",
   "execution_count": 36,
   "metadata": {},
   "outputs": [],
   "source": [
    "import lightgbm as lgb\n",
    "train_data = lgb.Dataset(merged_train, label=y_train)\n",
    "\n",
    "param = {'objective': 'multiclass',\n",
    "         'num_iterations': 80,\n",
    "         'learning_rate': 0.04, \n",
    "         'num_leaves': 23,\n",
    "         'max_depth': 7, \n",
    "         'min_data_in_leaf': 28, \n",
    "         'max_bin': 10, \n",
    "         'min_data_in_bin': 3,   \n",
    "         'num_class': 6,\n",
    "         'metric': 'multi_logloss'\n",
    "         }\n",
    "\n",
    "lgbm = lgb.train(params=param, \n",
    "                 train_set=train_data)\n",
    "\n",
    "predictions = lgbm.predict(merged_test)\n",
    "\n",
    "y_pred_class = []\n",
    "for x in predictions:\n",
    "    y_pred_class.append(np.argmax(x))\n",
    "\n",
    "y_pred_class = le.inverse_transform(y_pred_class)\n",
    "\n"
   ]
  },
  {
   "cell_type": "code",
   "execution_count": 37,
   "metadata": {},
   "outputs": [],
   "source": [
    "df_sub = pd.DataFrame(data=y_pred_class, columns=['salary'])"
   ]
  },
  {
   "cell_type": "code",
   "execution_count": 38,
   "metadata": {},
   "outputs": [],
   "source": [
    "import xlsxwriter\n",
    "writer = pd.ExcelWriter('output.xlsx', engine='xlsxwriter')\n",
    "df_sub.to_excel(writer,sheet_name='Sheet1', index=False)\n",
    "writer.save()"
   ]
  },
  {
   "cell_type": "code",
   "execution_count": 39,
   "metadata": {},
   "outputs": [],
   "source": []
  },
  {
   "cell_type": "code",
   "execution_count": null,
   "metadata": {},
   "outputs": [],
   "source": []
  },
  {
   "cell_type": "code",
   "execution_count": null,
   "metadata": {},
   "outputs": [],
   "source": []
  }
 ],
 "metadata": {
  "kernelspec": {
   "display_name": "Python 3",
   "language": "python",
   "name": "python3"
  },
  "language_info": {
   "codemirror_mode": {
    "name": "ipython",
    "version": 3
   },
   "file_extension": ".py",
   "mimetype": "text/x-python",
   "name": "python",
   "nbconvert_exporter": "python",
   "pygments_lexer": "ipython3",
   "version": "3.7.5"
  }
 },
 "nbformat": 4,
 "nbformat_minor": 2
}
